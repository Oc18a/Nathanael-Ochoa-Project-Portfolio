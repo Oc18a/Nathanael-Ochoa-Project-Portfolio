{
 "cells": [
  {
   "cell_type": "code",
   "execution_count": 3,
   "id": "34d67298",
   "metadata": {},
   "outputs": [],
   "source": [
    "# DSC670\n",
    "# Week 12\n",
    "# Term Project - Milestone 4\n",
    "# Author: Nathanael Ochoa\n",
    "# 03/01/2025"
   ]
  },
  {
   "cell_type": "markdown",
   "id": "9e2b928b",
   "metadata": {},
   "source": [
    "# Project Milestone 4: Create Your Application to Finish the Project!"
   ]
  },
  {
   "cell_type": "code",
   "execution_count": 6,
   "id": "b44be7e0",
   "metadata": {},
   "outputs": [],
   "source": [
    "# Load necessary packages\n",
    "import json\n",
    "import nbformat\n",
    "import os\n",
    "import requests\n",
    "import subprocess\n",
    "\n",
    "import pandas as pd\n",
    "import streamlit as st\n",
    "\n",
    "from nbconvert import PythonExporter\n",
    "from openai import OpenAI"
   ]
  },
  {
   "cell_type": "markdown",
   "id": "ee089424",
   "metadata": {},
   "source": [
    "The first step is to load the CSV file into a DataFrame and then convert it into a JSONL file:"
   ]
  },
  {
   "cell_type": "code",
   "execution_count": 24,
   "id": "afd9f8a1",
   "metadata": {},
   "outputs": [],
   "source": [
    "# Load CSV file\n",
    "input_file = 'DSC670 Project Data - Final.csv'\n",
    "output_file = 'Complete Schedules - Final.jsonl'"
   ]
  },
  {
   "cell_type": "code",
   "execution_count": 25,
   "id": "7d79da8b",
   "metadata": {},
   "outputs": [],
   "source": [
    "# Read the CSV file into a DataFrame\n",
    "df = pd.read_csv(input_file)\n",
    "\n",
    "# Prepare the output data\n",
    "output_data = []\n",
    "\n",
    "# Define scheduling rules to embed in the prompt\n",
    "scheduling_rule = \"\"\"\n",
    "Follow these scheduling rules:\n",
    "\n",
    "- Breaks are 15 minutes long.\n",
    "- Lunches are 45 minutes long.\n",
    "- Minimize overlap between team member breaks and lunches as much as possible.\n",
    "- Schedule breaks no earlier than 2 hours after clock-in.\n",
    "- Schedule lunch no later than the 4th hour and 59th minute of work (lunch must occur before the 5th hour).\n",
    "- For shifts that are 6 hours or more, schedule a 2nd break between the time the employee returns from lunch \n",
    "  and their shift end time.\n",
    "- Do not schedule a break for a team member's last 15 minutes of their shift.\n",
    "\"\"\"\n",
    "\n",
    "# Group the data by the 'set' column (each 'set' represents a day)\n",
    "grouped = df.groupby('set')"
   ]
  },
  {
   "cell_type": "code",
   "execution_count": 26,
   "id": "09334ec0",
   "metadata": {},
   "outputs": [
    {
     "data": {
      "text/html": [
       "<div>\n",
       "<style scoped>\n",
       "    .dataframe tbody tr th:only-of-type {\n",
       "        vertical-align: middle;\n",
       "    }\n",
       "\n",
       "    .dataframe tbody tr th {\n",
       "        vertical-align: top;\n",
       "    }\n",
       "\n",
       "    .dataframe thead th {\n",
       "        text-align: right;\n",
       "    }\n",
       "</style>\n",
       "<table border=\"1\" class=\"dataframe\">\n",
       "  <thead>\n",
       "    <tr style=\"text-align: right;\">\n",
       "      <th></th>\n",
       "      <th>set</th>\n",
       "      <th>employee</th>\n",
       "      <th>shift start</th>\n",
       "      <th>shift end</th>\n",
       "      <th>1st break</th>\n",
       "      <th>lunch</th>\n",
       "      <th>2nd break</th>\n",
       "    </tr>\n",
       "  </thead>\n",
       "  <tbody>\n",
       "    <tr>\n",
       "      <th>0</th>\n",
       "      <td>1</td>\n",
       "      <td>1</td>\n",
       "      <td>4:00 AM</td>\n",
       "      <td>11:45 AM</td>\n",
       "      <td>6:00 AM</td>\n",
       "      <td>8:00 AM</td>\n",
       "      <td>10:30 AM</td>\n",
       "    </tr>\n",
       "    <tr>\n",
       "      <th>1</th>\n",
       "      <td>1</td>\n",
       "      <td>2</td>\n",
       "      <td>4:00 AM</td>\n",
       "      <td>12:00 PM</td>\n",
       "      <td>6:15 AM</td>\n",
       "      <td>8:30 AM</td>\n",
       "      <td>10:45 AM</td>\n",
       "    </tr>\n",
       "    <tr>\n",
       "      <th>2</th>\n",
       "      <td>1</td>\n",
       "      <td>3</td>\n",
       "      <td>4:00 AM</td>\n",
       "      <td>12:00 PM</td>\n",
       "      <td>6:30 AM</td>\n",
       "      <td>8:45 AM</td>\n",
       "      <td>11:00 AM</td>\n",
       "    </tr>\n",
       "    <tr>\n",
       "      <th>3</th>\n",
       "      <td>1</td>\n",
       "      <td>4</td>\n",
       "      <td>5:00 AM</td>\n",
       "      <td>12:45 PM</td>\n",
       "      <td>7:30 AM</td>\n",
       "      <td>9:45 AM</td>\n",
       "      <td>11:30 AM</td>\n",
       "    </tr>\n",
       "    <tr>\n",
       "      <th>4</th>\n",
       "      <td>1</td>\n",
       "      <td>5</td>\n",
       "      <td>5:00 AM</td>\n",
       "      <td>11:30 PM</td>\n",
       "      <td>7:00 AM</td>\n",
       "      <td>9:00 AM</td>\n",
       "      <td>NaN</td>\n",
       "    </tr>\n",
       "  </tbody>\n",
       "</table>\n",
       "</div>"
      ],
      "text/plain": [
       "   set  employee shift start shift end 1st break    lunch 2nd break\n",
       "0    1         1     4:00 AM  11:45 AM   6:00 AM  8:00 AM  10:30 AM\n",
       "1    1         2     4:00 AM  12:00 PM   6:15 AM  8:30 AM  10:45 AM\n",
       "2    1         3     4:00 AM  12:00 PM   6:30 AM  8:45 AM  11:00 AM\n",
       "3    1         4     5:00 AM  12:45 PM   7:30 AM  9:45 AM  11:30 AM\n",
       "4    1         5     5:00 AM  11:30 PM   7:00 AM  9:00 AM       NaN"
      ]
     },
     "execution_count": 26,
     "metadata": {},
     "output_type": "execute_result"
    }
   ],
   "source": [
    "# No personal data is used in the data as can be seen below.\n",
    "df.head()"
   ]
  },
  {
   "cell_type": "code",
   "execution_count": 28,
   "id": "b4563a75",
   "metadata": {},
   "outputs": [
    {
     "data": {
      "text/html": [
       "<div>\n",
       "<style scoped>\n",
       "    .dataframe tbody tr th:only-of-type {\n",
       "        vertical-align: middle;\n",
       "    }\n",
       "\n",
       "    .dataframe tbody tr th {\n",
       "        vertical-align: top;\n",
       "    }\n",
       "\n",
       "    .dataframe thead th {\n",
       "        text-align: right;\n",
       "    }\n",
       "</style>\n",
       "<table border=\"1\" class=\"dataframe\">\n",
       "  <thead>\n",
       "    <tr style=\"text-align: right;\">\n",
       "      <th></th>\n",
       "      <th>set</th>\n",
       "      <th>employee</th>\n",
       "      <th>shift start</th>\n",
       "      <th>shift end</th>\n",
       "      <th>1st break</th>\n",
       "      <th>lunch</th>\n",
       "      <th>2nd break</th>\n",
       "    </tr>\n",
       "  </thead>\n",
       "  <tbody>\n",
       "    <tr>\n",
       "      <th>671</th>\n",
       "      <td>53</td>\n",
       "      <td>11</td>\n",
       "      <td>5:00 PM</td>\n",
       "      <td>9:00 PM</td>\n",
       "      <td>7:00 PM</td>\n",
       "      <td>NaN</td>\n",
       "      <td>NaN</td>\n",
       "    </tr>\n",
       "  </tbody>\n",
       "</table>\n",
       "</div>"
      ],
      "text/plain": [
       "     set  employee shift start shift end 1st break lunch 2nd break\n",
       "671   53        11     5:00 PM   9:00 PM   7:00 PM   NaN       NaN"
      ]
     },
     "execution_count": 28,
     "metadata": {},
     "output_type": "execute_result"
    }
   ],
   "source": [
    "# The set variable goes up to 53 which means I fine-tuned this model using 53 different work schedules.\n",
    "df.tail(1)"
   ]
  },
  {
   "cell_type": "code",
   "execution_count": 6,
   "id": "4cad5290",
   "metadata": {},
   "outputs": [
    {
     "name": "stdout",
     "output_type": "stream",
     "text": [
      "Data has been converted and saved to Complete Schedules - Final.jsonl\n"
     ]
    }
   ],
   "source": [
    "# Process each group (i.e., each day) in the DataFrame to create the prompt-completion pairs\n",
    "for set_number, group in grouped:\n",
    "    # Start the message list\n",
    "    messages = []\n",
    "\n",
    "    # Add the system message to explain the task\n",
    "    messages.append({\n",
    "        \"role\": \"system\",\n",
    "        \"content\": f\"Generate a break and lunch schedule for the employees working on Day {set_number}. \"\n",
    "                   f\"Ensure breaks are spaced by at least 2 hours.\"\n",
    "    })\n",
    "    \n",
    "    # Add the user message with the shift details\n",
    "    user_content = f\"Here are the shift details for employees scheduled for Day {set_number}: \"\n",
    "    for index, row in group.iterrows():\n",
    "        user_content += (f\"Employee {row['employee']}: shift start {row['shift start']}, \"\n",
    "                         f\"shift end {row['shift end']}. \")\n",
    "    \n",
    "    messages.append({\n",
    "        \"role\": \"user\",\n",
    "        \"content\": user_content\n",
    "    })\n",
    "\n",
    "    # Add the assistant message with the generated schedule (we can generate this programmatically or manually for now)\n",
    "    assistant_content = \"Here is the generated schedule for Day \" + str(set_number) + \": \"\n",
    "    for index, row in group.iterrows():\n",
    "        assistant_content += (f\"Employee {row['employee']}: 1st break at {row['1st break']}, \"\n",
    "                              f\"lunch at {row['lunch']}, 2nd break at {row['2nd break']}. \")\n",
    "\n",
    "    messages.append({\n",
    "        \"role\": \"assistant\",\n",
    "        \"content\": assistant_content\n",
    "    })\n",
    "    \n",
    "    # Append the messages to the output list\n",
    "    output_data.append({\"messages\": messages})\n",
    "\n",
    "# Write the new format data to a JSONL file\n",
    "with open(output_file, 'w') as f:\n",
    "    for item in output_data:\n",
    "        f.write(json.dumps(item) + '\\n')\n",
    "\n",
    "print(f\"Data has been converted and saved to {output_file}\")"
   ]
  },
  {
   "cell_type": "markdown",
   "id": "0b77c5b8",
   "metadata": {},
   "source": [
    "This is the file I will upload to OpenAI for fine-tuning. I will use the same code from my Week 7 assignment. The test code was provided by Professor F. Neugebauer and will be slightly modified to suit my needs."
   ]
  },
  {
   "cell_type": "code",
   "execution_count": 7,
   "id": "88909688",
   "metadata": {},
   "outputs": [],
   "source": [
    "# JSON file path\n",
    "json_path = 'config.json'\n",
    "\n",
    "# Load API key from the JSON file\n",
    "with open(json_path, \"r\") as f:\n",
    "    config = json.load(f)\n",
    "    api_key = config['api_key']\n",
    "    \n",
    "# Client for API call\n",
    "client = OpenAI(api_key = api_key)"
   ]
  },
  {
   "cell_type": "markdown",
   "id": "df09fa02",
   "metadata": {},
   "source": [
    "Upload data:"
   ]
  },
  {
   "cell_type": "code",
   "execution_count": 8,
   "id": "ab333bf0",
   "metadata": {},
   "outputs": [
    {
     "name": "stdout",
     "output_type": "stream",
     "text": [
      "Training file ID: file-PBPigQXhwP12FBoqWYtFmX\n",
      "Training file name: Complete Schedules - Final.jsonl\n"
     ]
    }
   ],
   "source": [
    "# Set headers for API requests\n",
    "headers = {\n",
    "    'Authorization': f'Bearer {api_key}',\n",
    "}\n",
    "\n",
    "# Define file path\n",
    "TRAINING_FILENAME = output_file  # Created earlier\n",
    "\n",
    "# Upload the training dataset file to OpenAI\n",
    "def upload_data(file_path):\n",
    "    url = 'https://api.openai.com/v1/files'\n",
    "    files = {\n",
    "        'file': open(file_path, 'rb')\n",
    "    }\n",
    "    data = {\n",
    "        'purpose': 'fine-tune',  # Define the purpose as fine-tuning\n",
    "    }\n",
    "    \n",
    "    response = requests.post(url, headers = headers, files = files, data = data)\n",
    "    return response.json()\n",
    "\n",
    "# Upload the file\n",
    "upload_response = upload_data(TRAINING_FILENAME)\n",
    "\n",
    "# Display\n",
    "print(\"Training file ID:\", upload_response['id'])\n",
    "print(\"Training file name:\", upload_response['filename'])"
   ]
  },
  {
   "cell_type": "markdown",
   "id": "2bc44239",
   "metadata": {},
   "source": [
    "Begin the fine-tuning job:"
   ]
  },
  {
   "cell_type": "code",
   "execution_count": 9,
   "id": "bb98120e",
   "metadata": {},
   "outputs": [
    {
     "name": "stdout",
     "output_type": "stream",
     "text": [
      "Fine-tuning job ID: ftjob-Ce6wEeVM890sN9W13inziroK\n"
     ]
    }
   ],
   "source": [
    "# Begin fine-tuning job\n",
    "def fine_tune_model(file_id):\n",
    "    url = 'https://api.openai.com/v1/fine_tuning/jobs'\n",
    "    data = {\n",
    "        'training_file': file_id,\n",
    "        'model': 'gpt-4o-2024-08-06',  # My selected model\n",
    "        'hyperparameters': {\n",
    "            'n_epochs': 3\n",
    "        }\n",
    "    }\n",
    "\n",
    "    response = requests.post(url, headers = headers, json = data)\n",
    "    return response.json()\n",
    "\n",
    "# Start fine-tuning with the uploaded file ID\n",
    "file_id = upload_response['id']  # Get the file ID from the upload response\n",
    "fine_tune_response = fine_tune_model(file_id)\n",
    "\n",
    "# Display\n",
    "print(\"Fine-tuning job ID:\", fine_tune_response['id'])"
   ]
  },
  {
   "cell_type": "markdown",
   "id": "10d64019",
   "metadata": {},
   "source": [
    "List fine-tuning jobs:"
   ]
  },
  {
   "cell_type": "code",
   "execution_count": 13,
   "id": "a02348d8",
   "metadata": {},
   "outputs": [
    {
     "name": "stdout",
     "output_type": "stream",
     "text": [
      "Job ID: ftjob-Ce6wEeVM890sN9W13inziroK, Status: running\n",
      "Job ID: ftjob-3nnQ5MiTV8z3a7QfIlm0gykt, Status: succeeded\n",
      "Job ID: ftjob-eU7v1NyfK7wdUlQCwZhmQv8N, Status: succeeded\n",
      "Job ID: ftjob-jxJdni4yyo8t0Mj4tGwbs7DH, Status: succeeded\n",
      "Job ID: ftjob-6cXyN9aNgSgz2Xgg3Lsk1B69, Status: failed\n",
      "Job ID: ftjob-NQxL6YdMQuPehVB4wVELwnIB, Status: failed\n",
      "Job ID: ftjob-VQMeTGDytEdLAjFjvQZ4aOqG, Status: succeeded\n",
      "Job ID: ftjob-yaSW4h4qGAkQS484JbhLnV1T, Status: succeeded\n",
      "Job ID: ftjob-wmeLdw7oc1kv34QwGpLRh2pX, Status: succeeded\n",
      "Job ID: ftjob-VslpCd37dkypNYXz9n5Qg3Km, Status: succeeded\n",
      "Job ID: ftjob-qw6K4qDF5dD4s6JG97D3z469, Status: succeeded\n",
      "Job ID: ftjob-DnYEIE22YHVEeG8dqBc3V1g0, Status: succeeded\n",
      "Job ID: ftjob-GMGi9ExD3oPkLGEZw8pdTDGd, Status: succeeded\n"
     ]
    }
   ],
   "source": [
    "# List all fine-tuning jobs\n",
    "def list_fine_tuning_jobs():\n",
    "    url = 'https://api.openai.com/v1/fine_tuning/jobs'\n",
    "    response = requests.get(url, headers = headers)\n",
    "    return response.json()\n",
    "\n",
    "# Fetch and print all fine-tuning jobs\n",
    "ft_jobs = list_fine_tuning_jobs()\n",
    "if ft_jobs:\n",
    "    for ft_job in ft_jobs['data']:  # 'data' contains the list of jobs\n",
    "        print(f\"Job ID: {ft_job['id']}, Status: {ft_job['status']}\")"
   ]
  },
  {
   "cell_type": "markdown",
   "id": "ac8df19c",
   "metadata": {},
   "source": [
    "Print the fine-tuned model name:"
   ]
  },
  {
   "cell_type": "code",
   "execution_count": 12,
   "id": "3d5a7377",
   "metadata": {},
   "outputs": [
    {
     "name": "stdout",
     "output_type": "stream",
     "text": [
      "model name: N/A\n",
      "status: running\n"
     ]
    }
   ],
   "source": [
    "# Monitor the fine-tuning job status\n",
    "def monitor_fine_tuning(job_id):\n",
    "    url = f'https://api.openai.com/v1/fine_tuning/jobs/{job_id}'\n",
    "    response = requests.get(url, headers = headers)\n",
    "    return response.json()\n",
    "\n",
    "# Monitor the fine-tuning job using the job ID\n",
    "job_id = fine_tune_response['id']\n",
    "status_response = monitor_fine_tuning(job_id)\n",
    "\n",
    "# Check if the job has succeeded and print the fine-tuned model name and status\n",
    "if status_response.get('status') == 'succeeded':\n",
    "    print(f\"model name: {MODEL}\")\n",
    "    print(f\"status: succeeded\")\n",
    "else:\n",
    "    print(\"model name: N/A\")  # If not succeeded, no model name is shown (N/A)\n",
    "    print(f\"status: {status_response.get('status')}\")"
   ]
  },
  {
   "cell_type": "code",
   "execution_count": 14,
   "id": "dcb4a0ec",
   "metadata": {},
   "outputs": [],
   "source": [
    "# Save model name - note this model name isn't from the most recent fine-tuning job seen above. I realized after re-running\n",
    "# the above code that there was no need to fine-tune another model after already having done it.\n",
    "MODEL = 'ft:gpt-4o-2024-08-06:personal::B5GnWLsi'"
   ]
  },
  {
   "cell_type": "code",
   "execution_count": 16,
   "id": "729962cf",
   "metadata": {},
   "outputs": [],
   "source": [
    "# Add model name to JSON file\n",
    "with open(json_path, \"r\") as f:\n",
    "    config = json.load(f)\n",
    "\n",
    "config['MODEL'] = MODEL  # Adds previusly saved model name\n",
    "\n",
    "# Write updated data back to the JSON file\n",
    "with open(json_path, 'w') as f:\n",
    "    json.dump(config, f, indent = 4)"
   ]
  },
  {
   "cell_type": "code",
   "execution_count": 15,
   "id": "db2f281a",
   "metadata": {},
   "outputs": [
    {
     "name": "stdout",
     "output_type": "stream",
     "text": [
      "\n",
      "    | TM   | shift start | shift end | 1st break | lunch    | 2nd break |\n",
      "    |-------------------------------------------------------------------|\n",
      "    | TM A | 4:00 AM     | 11:00 AM  | 6:00 AM   | 9:00 AM  | 9:45 AM   |\n",
      "    | TM B | 5:00 AM     | 12:00 PM  | 7:00 AM   | 10:00 AM | 10:45 AM  |\n",
      "    | TM C | 6:00 AM     | 1:00 PM   | 8:00 AM   | 10:45 AM | 12:00 PM  |\n",
      "    | TM D | 6:30 AM     | 2:30 PM   | 8:30 AM   | 11:15 AM | 1:30 PM   |\n",
      "    | TM E | 7:00 AM     | 2:00 PM   | 9:15 AM   | 11:00 AM | 1:00 PM   |\n",
      "    | TM F | 7:00 AM     | 3:00 PM   | 9:00 AM   | 11:30 AM | 1:45 PM   |\n",
      "    | TM G | 9:00 AM     | 5:00 PM   | 11:15 AM  | 1:30 PM  | 3:45 PM   |\n",
      "    | TM H | 10:00 AM    | 2:00 PM   | 12:15 PM  |          |           |\n",
      "    | TM I | 10:00 AM    | 6:00 PM   | 12:00 PM  | 2:45 PM  | 4:45 PM   |\n",
      "    | TM J | 12:00 PM    | 8:00 PM   | 2:00 PM   | 4:45 PM  | 6:45 PM   |\n",
      "    | TM K | 12:00 PM    | 8:00 PM   | 2:15 PM   | 5:30 PM  | 6:00 PM   |\n",
      "    | TM L | 2:00 PM     | 10:00 PM  | 4:15 PM   | 6:45 PM  | 8:45 PM   |\n",
      "    | TM M | 3:15 PM     | 10:00 PM  | 5:30 PM   | 8:00 PM  | 9:00 PM   |\n"
     ]
    }
   ],
   "source": [
    "# Test code\n",
    "completion = client.chat.completions.create(\n",
    "  model = f\"{MODEL}\",  # Name from previous code chunk\n",
    "  messages = [\n",
    "    {\"role\": \"system\", \"content\": f\"\"\"\n",
    "    You are a model trained to generate break and lunch schedules for employees based on their shift start and end times. \n",
    "    {scheduling_rule}\n",
    "    \"\"\"},\n",
    "    {\"role\": \"user\", \"content\": \"\"\"\n",
    "    Here are the shift details for employees scheduled today:\n",
    "        TM A: 4:00 AM - 11:00 AM\n",
    "        TM B: 5:00 AM - 12:00 PM\n",
    "        TM C: 6:00 AM - 1:00 PM\n",
    "        TM D: 6:30 AM - 2:30 PM\n",
    "        TM E: 7:00 AM - 2:00 PM\n",
    "        TM F: 7:00 AM - 3:00 PM\n",
    "        TM G: 9:00 AM - 5:00 PM\n",
    "        TM H: 10:00 AM - 2:00 PM\n",
    "        TM I: 10:00 AM - 6:00 PM\n",
    "        TM J: 12:00 PM - 8:00 PM\n",
    "        TM K: 12:00 PM - 8:00 PM\n",
    "        TM L: 2:00 PM - 10:00 PM\n",
    "        TM M: 3:15 PM - 10:00 PM\n",
    "    \n",
    "    Create a break and lunch schedule for every employee listed above. Use this format:\n",
    "\n",
    "    | TM   | shift start | shift end | 1st break | lunch    | 2nd break | \n",
    "    |-------------------------------------------------------------------|\n",
    "    | TM A | XX:XX XM    | XX:XX XM  | XX:XX XM  | XX:XX XM | XX:XX XM  |\n",
    "    | TM B | XX:XX XM    | XX:XX XM  | XX:XX XM  | XX:XX XM | XX:XX XM  |\n",
    "    \n",
    "    If a lunch or 2nd break is not applicable leave blank.\n",
    "    \"\"\"}\n",
    "  ],\n",
    "  max_tokens = 750  # I had to increase this value since the full response was not being shown\n",
    ")\n",
    "\n",
    "# Display message content\n",
    "print(completion.choices[0].message.content)"
   ]
  },
  {
   "cell_type": "markdown",
   "id": "3c08be66",
   "metadata": {},
   "source": [
    "The test code above works perfectly and will be used in the following main() function, which will be saved to a .py file."
   ]
  },
  {
   "cell_type": "markdown",
   "id": "a98fc6c1",
   "metadata": {},
   "source": [
    "Export specific code to a .py file:"
   ]
  },
  {
   "cell_type": "code",
   "execution_count": 19,
   "id": "251dd7de",
   "metadata": {},
   "outputs": [
    {
     "name": "stdout",
     "output_type": "stream",
     "text": [
      "Code exported to 670PROJECT.py.\n"
     ]
    }
   ],
   "source": [
    "code_to_export = '''\n",
    "import json\n",
    "import requests\n",
    "import streamlit as st\n",
    "from openai import OpenAI \n",
    "\n",
    "# Streamlit UI code wrapped in main() function\n",
    "def main():\n",
    "    \n",
    "    # JSON file path\n",
    "    json_path = 'config.json'\n",
    "\n",
    "    # Load API key from the JSON file\n",
    "    with open(json_path, \"r\") as f:\n",
    "        config = json.load(f)\n",
    "        api_key = config['api_key']\n",
    "        MODEL = config['MODEL']\n",
    "    \n",
    "    # Client for API call\n",
    "    client = OpenAI(api_key = api_key)\n",
    "    \n",
    "    # Define scheduling rules to embed in the prompt\n",
    "    scheduling_rule = \"\"\"\n",
    "    Follow these scheduling rules:\n",
    "\n",
    "    - Breaks are 15 minutes long.\n",
    "    - Lunches are 45 minutes long.\n",
    "    - Minimize overlap between team member breaks and lunches as much as possible.\n",
    "    - Schedule breaks no earlier than 2 hours after clock-in.\n",
    "    - Schedule lunch no later than the 4th hour and 59th minute of work (lunch must occur before the 5th hour).\n",
    "    - For shifts that are 6 hours or more, schedule a 2nd break between the time the employee returns from lunch \n",
    "      and their shift end time.\n",
    "    - Do not schedule a break for a team member's last 15 minutes of their shift.\n",
    "    - Lunches are only scheduled when the shift is longer than 5 hours.\n",
    "    - Shifts that are 4 hours and 59 minutes long or less only get a single break.\n",
    "    \"\"\"\n",
    "    \n",
    "    # Streamlit UI\n",
    "    st.set_page_config(page_title = \"Employee Break/Lunch Schedule Generator\", layout = \"wide\")\n",
    "    \n",
    "    # App title\n",
    "    st.title(\"Employee Break/Lunch Schedule Generator\")\n",
    "\n",
    "    # User input for schedule \n",
    "    user_input = st.text_area(\"Enter Employee Schedule:\")\n",
    "\n",
    "    # Button to trigger the model call\n",
    "    if st.button(\"Generate Schedule\"):\n",
    "        if user_input:\n",
    "            # Call OpenAI API directly to generate schedule\n",
    "            response = client.chat.completions.create(\n",
    "                model = MODEL,  \n",
    "                messages = [\n",
    "                    {\"role\": \"system\", \"content\": f\"\"\"\n",
    "                    You are a model trained to generate break and lunch schedules for employees based on their \n",
    "                    shift start and end times. \n",
    "                    {scheduling_rule}\n",
    "                    \"\"\"},\n",
    "                    {\"role\": \"user\", \"content\": f\"\"\"\n",
    "                    Here are the shift details for employees scheduled today:\n",
    "                    {user_input}\n",
    "    \n",
    "                    Create a break and lunch schedule for every employee listed above. Use this format:\n",
    "\n",
    "                    | TM   | shift start - shift end | 1st break | lunch    | 2nd break | \n",
    "                    | TM A | XX:XX XM - XX:XX XM  | XX:XX XM  | XX:XX XM | XX:XX XM  |\n",
    "                    | TM B | XX:XX XM - XX:XX XM  | XX:XX XM  | XX:XX XM | XX:XX XM  |\n",
    "\n",
    "                    If a lunch or 2nd break is not applicable enter 'NA'.\n",
    "                    \"\"\"}\n",
    "                ],\n",
    "                max_tokens = 1000\n",
    "            )\n",
    "            \n",
    "            # Extract and display the generated schedule\n",
    "            generated_schedule = response.choices[0].message.content\n",
    "            st.subheader(\"Generated Break/Lunch Schedule:\")\n",
    "            \n",
    "            # Dislay response line by line\n",
    "            for line in generated_schedule.splitlines():\n",
    "                st.write(line)\n",
    "        else:\n",
    "            st.error(\"Please enter the schedule details before generating.\")\n",
    "\n",
    "# Ensure Streamlit app runs only runs when executed as a script\n",
    "if __name__ == \"__main__\":\n",
    "    main()\n",
    "'''\n",
    "\n",
    "# Save the code to a .py file\n",
    "name = \"Employee Schedule App.py\"\n",
    "\n",
    "with open(name, 'w') as f:\n",
    "    f.write(code_to_export)\n",
    "    \n",
    "print(f\"Code exported to {name}.\")"
   ]
  },
  {
   "cell_type": "code",
   "execution_count": 20,
   "id": "605e9aec",
   "metadata": {},
   "outputs": [],
   "source": [
    "# Start Streamlit app\n",
    "process = subprocess.Popen(['streamlit', 'run', 'Employee Schedule App.py'])\n",
    "print(\"Starting Streamlit app - check browser window.\")"
   ]
  },
  {
   "cell_type": "code",
   "execution_count": 21,
   "id": "9511664e",
   "metadata": {},
   "outputs": [
    {
     "name": "stdout",
     "output_type": "stream",
     "text": [
      "Streamlit app stopped.\n"
     ]
    }
   ],
   "source": [
    "# End Streamlit app\n",
    "process.terminate()\n",
    "print(\"Streamlit app stopped.\")"
   ]
  },
  {
   "cell_type": "code",
   "execution_count": null,
   "id": "f5912b5f",
   "metadata": {},
   "outputs": [],
   "source": []
  }
 ],
 "metadata": {
  "kernelspec": {
   "display_name": "Python 3 (ipykernel)",
   "language": "python",
   "name": "python3"
  },
  "language_info": {
   "codemirror_mode": {
    "name": "ipython",
    "version": 3
   },
   "file_extension": ".py",
   "mimetype": "text/x-python",
   "name": "python",
   "nbconvert_exporter": "python",
   "pygments_lexer": "ipython3",
   "version": "3.11.5"
  }
 },
 "nbformat": 4,
 "nbformat_minor": 5
}
