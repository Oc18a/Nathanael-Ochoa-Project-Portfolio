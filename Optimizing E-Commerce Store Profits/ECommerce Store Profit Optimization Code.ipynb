{
 "cells": [
  {
   "cell_type": "code",
   "execution_count": 193,
   "id": "6d094948",
   "metadata": {},
   "outputs": [],
   "source": [
    "# DSC630\n",
    "# Week 10\n",
    "# Term Project\n",
    "# Author: Nathanael Ochoa\n",
    "# 08/10/24"
   ]
  },
  {
   "cell_type": "markdown",
   "id": "6aad1cad",
   "metadata": {},
   "source": [
    "# Milestone 5 - Term Project"
   ]
  },
  {
   "cell_type": "code",
   "execution_count": 194,
   "id": "39cd94a9",
   "metadata": {},
   "outputs": [],
   "source": [
    "# Import packages\n",
    "import warnings\n",
    "\n",
    "import matplotlib.pyplot as plt\n",
    "import numpy as np\n",
    "import pandas as pd\n",
    "\n",
    "from sklearn.metrics import mean_absolute_error, mean_squared_error\n",
    "from sklearn.metrics.pairwise import cosine_similarity\n",
    "from statsmodels.tsa.holtwinters import ExponentialSmoothing"
   ]
  },
  {
   "cell_type": "code",
   "execution_count": 195,
   "id": "d83187db",
   "metadata": {},
   "outputs": [],
   "source": [
    "# Import data\n",
    "data = pd.read_csv(\"jewelry - Copy.csv\")"
   ]
  },
  {
   "cell_type": "code",
   "execution_count": 196,
   "id": "d0256541",
   "metadata": {},
   "outputs": [
    {
     "data": {
      "text/plain": [
       "pandas.core.frame.DataFrame"
      ]
     },
     "execution_count": 196,
     "metadata": {},
     "output_type": "execute_result"
    }
   ],
   "source": [
    "# Dataframe check\n",
    "type(data)"
   ]
  },
  {
   "cell_type": "code",
   "execution_count": 197,
   "id": "9dd57f27",
   "metadata": {},
   "outputs": [
    {
     "name": "stdout",
     "output_type": "stream",
     "text": [
      "Data dimensions: (95911, 13)\n"
     ]
    }
   ],
   "source": [
    "# Dataframe shape\n",
    "print(f'Data dimensions: {data.shape}')"
   ]
  },
  {
   "cell_type": "code",
   "execution_count": 198,
   "id": "6a589923",
   "metadata": {},
   "outputs": [
    {
     "data": {
      "text/plain": [
       "0  order_datetime    2018-12-01 11:40:29 UTC\n",
       "   order_id              1924719191579951782\n",
       "   product_id            1842195256808833386\n",
       "   qty                                     1\n",
       "   category_id         1806829201890738432.0\n",
       "   category_alias            jewelry.earring\n",
       "   brand_id                              0.0\n",
       "   price                              561.51\n",
       "   user_id             1515915625207851264.0\n",
       "   main_color                            red\n",
       "   main_metal                           gold\n",
       "   main_gem                          diamond\n",
       "dtype: object"
      ]
     },
     "execution_count": 198,
     "metadata": {},
     "output_type": "execute_result"
    }
   ],
   "source": [
    "# Preview first row of dataset\n",
    "data.head(1).stack()"
   ]
  },
  {
   "cell_type": "markdown",
   "id": "59f36f06",
   "metadata": {},
   "source": [
    "I noticed some rows had empty values in the 'user_id' and 'price' columns because the values were shifted two spaces to the left. I observed this issue while inspecting the data in Excel, so it’s best to correct it now."
   ]
  },
  {
   "cell_type": "code",
   "execution_count": 199,
   "id": "6743f7f9",
   "metadata": {},
   "outputs": [],
   "source": [
    "# New dataframe that contains the rows that contain \n",
    "# NaN values in the 'user_id' column\n",
    "empty_users = data[data[\"user_id\"].isnull()]"
   ]
  },
  {
   "cell_type": "code",
   "execution_count": 200,
   "id": "15c703a8",
   "metadata": {},
   "outputs": [
    {
     "data": {
      "text/plain": [
       "5352"
      ]
     },
     "execution_count": 200,
     "metadata": {},
     "output_type": "execute_result"
    }
   ],
   "source": [
    "# Count of rows that contain NA values in the 'user_id' column\n",
    "len(empty_users)"
   ]
  },
  {
   "cell_type": "code",
   "execution_count": 201,
   "id": "f8eb3ece",
   "metadata": {},
   "outputs": [],
   "source": [
    "# 'Moves' the misplaced data to the correct columns\n",
    "for idx, row in empty_users.iterrows():\n",
    "    # Sets price value equal to category_alias value\n",
    "    row[\"price\"] = row[\"category_alias\"]  \n",
    "    row[\"category_alias\"] = np.nan  # Sets category_alias value to NaN\n",
    "    \n",
    "    row[\"user_id\"] = row[\"brand_id\"]  # Sets user_id value equal to brand_id value\n",
    "    row[\"brand_id\"] = np.nan  # Sets brand_id value to NaN\n",
    "    \n",
    "    data.loc[idx] = row  # Updates the original dataset with these changes"
   ]
  },
  {
   "cell_type": "code",
   "execution_count": 202,
   "id": "4655c4df",
   "metadata": {},
   "outputs": [
    {
     "data": {
      "text/plain": [
       "0"
      ]
     },
     "execution_count": 202,
     "metadata": {},
     "output_type": "execute_result"
    }
   ],
   "source": [
    "# Count of rows that contain NaN values in the 'user_id' column \n",
    "# after making the above changes\n",
    "data['user_id'].isnull().sum()"
   ]
  },
  {
   "cell_type": "markdown",
   "id": "8189818c",
   "metadata": {},
   "source": [
    "I will replace empty values in the 'product_gender' column with 'u', which represents unisex. To fill in this column, I can use the 'category_alias' column as a reference. For instance, every record with 'jewelry.necklace' has 'f' in the 'product_gender' column. However, since there can be male or unisex necklaces, I have decided to use 'u' for the null values.\n",
    "\n",
    "Null values in the 'main_gem' column will be filled with 'unknown-gem'. There is already a value 'unknown-color' in the 'main_color' column, so this approach maintains consistency with the existing dataset.\n",
    "\n",
    "Null values in the 'brand_id' column will be replaced with -1 to indicate that the product does not have a brand.\n",
    "\n",
    "These are the null values that will be addressed. The remaining null values will be dropped from the dataset altogether."
   ]
  },
  {
   "cell_type": "code",
   "execution_count": 203,
   "id": "c29a11cd",
   "metadata": {},
   "outputs": [],
   "source": [
    "# Fill in NaN values in the data\n",
    "data['product_gender'].fillna('u', inplace = True)\n",
    "data['main_gem'].fillna('unknown-gem', inplace = True)\n",
    "data['brand_id'].fillna(-1, inplace = True)"
   ]
  },
  {
   "cell_type": "code",
   "execution_count": 204,
   "id": "4f464ace",
   "metadata": {},
   "outputs": [],
   "source": [
    "# Create new dataframe using copy() and dropna() functions\n",
    "dropped_na_data = data.copy().dropna()"
   ]
  },
  {
   "cell_type": "code",
   "execution_count": 205,
   "id": "6e454595",
   "metadata": {},
   "outputs": [
    {
     "name": "stdout",
     "output_type": "stream",
     "text": [
      "Original record count: 95911\n",
      "New record count:      78391\n",
      "Records lost:          17520\n"
     ]
    }
   ],
   "source": [
    "# Filling in some of the NaN values has helped keep a large amount of records\n",
    "print(f'Original record count: {len(data)}')\n",
    "print(f'New record count:      {len(dropped_na_data)}')\n",
    "print(f'Records lost:          {len(data) - len(dropped_na_data)}')"
   ]
  },
  {
   "cell_type": "markdown",
   "id": "f6f03ed3",
   "metadata": {},
   "source": [
    "Next, I'll update the column data types as needed."
   ]
  },
  {
   "cell_type": "code",
   "execution_count": 206,
   "id": "d7ba2b11",
   "metadata": {},
   "outputs": [
    {
     "data": {
      "text/plain": [
       "order_datetime     object\n",
       "order_id            int64\n",
       "product_id          int64\n",
       "qty                 int64\n",
       "category_id       float64\n",
       "category_alias     object\n",
       "brand_id          float64\n",
       "price              object\n",
       "user_id           float64\n",
       "product_gender     object\n",
       "main_color         object\n",
       "main_metal         object\n",
       "main_gem           object\n",
       "dtype: object"
      ]
     },
     "execution_count": 206,
     "metadata": {},
     "output_type": "execute_result"
    }
   ],
   "source": [
    "# View column data types\n",
    "dropped_na_data.dtypes"
   ]
  },
  {
   "cell_type": "code",
   "execution_count": 207,
   "id": "559db61f",
   "metadata": {},
   "outputs": [],
   "source": [
    "# Use this to convert 'order_datetime' to datetime format\n",
    "dropped_na_data['order_datetime'] = pd.to_datetime(dropped_na_data['order_datetime'])\n",
    "\n",
    "# Set as index and drop original 'order_datetime' column\n",
    "dropped_na_data.set_index('order_datetime', inplace = True)"
   ]
  },
  {
   "cell_type": "code",
   "execution_count": 208,
   "id": "85cb3801",
   "metadata": {},
   "outputs": [],
   "source": [
    "# Convert columns to appropriate data types\n",
    "dropped_na_data[\"category_id\"] = dropped_na_data[\"category_id\"].astype('Int64')\n",
    "dropped_na_data[\"category_alias\"] = dropped_na_data[\"category_alias\"].astype(str)\n",
    "dropped_na_data[\"brand_id\"] = dropped_na_data[\"brand_id\"].astype(int)\n",
    "dropped_na_data[\"price\"] = dropped_na_data[\"price\"].astype(float)\n",
    "dropped_na_data[\"user_id\"] = dropped_na_data[\"user_id\"].astype('Int64')\n",
    "dropped_na_data[\"product_gender\"] = dropped_na_data[\"product_gender\"].astype(str)\n",
    "dropped_na_data[\"main_color\"] = dropped_na_data[\"main_color\"].astype(str)\n",
    "dropped_na_data[\"main_metal\"] = dropped_na_data[\"main_metal\"].astype(str)\n",
    "dropped_na_data[\"main_gem\"] = dropped_na_data[\"main_gem\"].astype(str)"
   ]
  },
  {
   "cell_type": "code",
   "execution_count": 209,
   "id": "236604c5",
   "metadata": {},
   "outputs": [
    {
     "data": {
      "text/plain": [
       "order_id            int64\n",
       "product_id          int64\n",
       "qty                 int64\n",
       "category_id         Int64\n",
       "category_alias     object\n",
       "brand_id            int32\n",
       "price             float64\n",
       "user_id             Int64\n",
       "product_gender     object\n",
       "main_color         object\n",
       "main_metal         object\n",
       "main_gem           object\n",
       "dtype: object"
      ]
     },
     "execution_count": 209,
     "metadata": {},
     "output_type": "execute_result"
    }
   ],
   "source": [
    "# Ensure the changes were made correctly\n",
    "dropped_na_data.dtypes"
   ]
  },
  {
   "cell_type": "code",
   "execution_count": 210,
   "id": "b943396c",
   "metadata": {},
   "outputs": [
    {
     "data": {
      "text/plain": [
       "order_datetime                           \n",
       "2018-12-01 11:40:29+00:00  order_id          1924719191579951782\n",
       "                           product_id        1842195256808833386\n",
       "                           qty                                 1\n",
       "                           category_id       1806829201890738432\n",
       "                           category_alias        jewelry.earring\n",
       "                           brand_id                            0\n",
       "                           price                          561.51\n",
       "                           user_id           1515915625207851264\n",
       "                           product_gender                      u\n",
       "                           main_color                        red\n",
       "                           main_metal                       gold\n",
       "                           main_gem                      diamond\n",
       "dtype: object"
      ]
     },
     "execution_count": 210,
     "metadata": {},
     "output_type": "execute_result"
    }
   ],
   "source": [
    "# Preview first row of data after updating column data types\n",
    "dropped_na_data.head(1).stack()"
   ]
  },
  {
   "cell_type": "markdown",
   "id": "10b292f2",
   "metadata": {},
   "source": [
    "# Product Recommender System - Content-Based Filtering"
   ]
  },
  {
   "cell_type": "code",
   "execution_count": 211,
   "id": "f4f80248",
   "metadata": {},
   "outputs": [],
   "source": [
    "# Create a copy of the dataset and name it something different\n",
    "rec_sys = dropped_na_data.copy()"
   ]
  },
  {
   "cell_type": "code",
   "execution_count": 212,
   "id": "f2edf30f",
   "metadata": {},
   "outputs": [],
   "source": [
    "# Drop duplicates based on product_id\n",
    "features = rec_sys[['product_id', 'category_alias', 'product_gender', \n",
    "                    'main_color', 'main_metal']].drop_duplicates()"
   ]
  },
  {
   "cell_type": "code",
   "execution_count": 213,
   "id": "0bb615dd",
   "metadata": {},
   "outputs": [],
   "source": [
    "# One-hot encode the categorical features\n",
    "encoded = pd.get_dummies(features, columns = ['category_alias', 'product_gender', \n",
    "                                              'main_color', 'main_metal'])"
   ]
  },
  {
   "cell_type": "code",
   "execution_count": 214,
   "id": "1264a8e4",
   "metadata": {},
   "outputs": [],
   "source": [
    "# Create item-feature matrix with product_id as index\n",
    "item_feature_matrix = encoded.set_index('product_id')"
   ]
  },
  {
   "cell_type": "code",
   "execution_count": 215,
   "id": "9ed80ed3",
   "metadata": {},
   "outputs": [],
   "source": [
    "# Compute cosine similarity between items\n",
    "item_similarity = cosine_similarity(item_feature_matrix)\n",
    "item_similarity_df = pd.DataFrame(item_similarity, \n",
    "                                  index = item_feature_matrix.index, \n",
    "                                  columns = item_feature_matrix.index)"
   ]
  },
  {
   "cell_type": "code",
   "execution_count": 216,
   "id": "66eba671",
   "metadata": {},
   "outputs": [],
   "source": [
    "# Function that returns 10 recommended items from the store. \n",
    "# These items have not been purchased by the user.\n",
    "def recommend_items(user_id, df, item_similarity_df, top_n = 10):\n",
    "    # Get items purchased by the user\n",
    "    user_purchases = df[df['user_id'] == user_id]['product_id']\n",
    "    \n",
    "    # Calculate scores for items not purchased by the user\n",
    "    scores = pd.Series(0, index = item_similarity_df.columns)\n",
    "    \n",
    "    for item in user_purchases:\n",
    "        if item in item_similarity_df.index:\n",
    "            similar_items = item_similarity_df[item]\n",
    "            scores += similar_items\n",
    "            \n",
    "    # Remove items already purchased by the user\n",
    "    scores = scores.drop(user_purchases, errors = 'ignore')\n",
    "    \n",
    "    # Return top N recommended items\n",
    "    return scores.sort_values(ascending = False).head(top_n)"
   ]
  },
  {
   "cell_type": "code",
   "execution_count": 217,
   "id": "1394a966",
   "metadata": {},
   "outputs": [],
   "source": [
    "# User with the most purchases will be used\n",
    "chosen_user = rec_sys['user_id'].mode().iloc[0]\n",
    "recommendations = recommend_items(chosen_user, rec_sys, item_similarity_df)"
   ]
  },
  {
   "cell_type": "code",
   "execution_count": 218,
   "id": "929e1075",
   "metadata": {},
   "outputs": [
    {
     "name": "stdout",
     "output_type": "stream",
     "text": [
      "The following store items are recommended for user 1515915625245643008.\n",
      "\n",
      "product_id: category_alias - product_gender - main_color - main_metal - main_gem - price\n",
      "1515966222980043408: jewelry.ring - f - red - gold - diamond - $335.48\n",
      "1515966223158066417: jewelry.ring - f - red - gold - diamond - $280.68\n",
      "1855231075249291734: jewelry.ring - f - red - gold - diamond - $123.15\n",
      "1515966223275024801: jewelry.ring - f - red - gold - fianit - $123.15\n",
      "1515966223478625523: jewelry.ring - f - red - gold - diamond - $343.15\n",
      "1515966223183803116: jewelry.ring - f - red - gold - unknown-gem - $168.36\n",
      "1956663848211579723: jewelry.ring - f - red - gold - emerald - $280.68\n",
      "1852230387330188242: jewelry.ring - f - red - gold - unknown-gem - $308.08\n",
      "1839998982592397760: jewelry.ring - f - red - gold - diamond - $177.95\n",
      "1956663847666319768: jewelry.ring - f - red - gold - topaz - $102.6\n"
     ]
    }
   ],
   "source": [
    "# Display output and loop through returned series\n",
    "print(f\"The following store items are recommended for user {chosen_user}.\")\n",
    "print()\n",
    "string1 = \"product_id: category_alias - product_gender - \"\n",
    "string2 = \"main_color - main_metal - main_gem - price\"\n",
    "print(string1 + string2)\n",
    "for product_id in recommendations.index:\n",
    "    category = rec_sys[rec_sys['product_id'] == product_id]['category_alias'].iloc[0]\n",
    "    gender = rec_sys[rec_sys['product_id'] == product_id]['product_gender'].iloc[0]\n",
    "    color = rec_sys[rec_sys['product_id'] == product_id]['main_color'].iloc[0]\n",
    "    metal = rec_sys[rec_sys['product_id'] == product_id]['main_metal'].iloc[0]\n",
    "    gem = rec_sys[rec_sys['product_id'] == product_id]['main_gem'].iloc[0]\n",
    "    price = rec_sys[rec_sys['product_id'] == product_id]['price'].iloc[0]\n",
    "    string3 = f\"{product_id}: {category} - {gender} - \"\n",
    "    string4 = f\"{color} - {metal} - {gem} - ${price}\"\n",
    "    print(string3 + string4)"
   ]
  },
  {
   "cell_type": "markdown",
   "id": "1541088d",
   "metadata": {},
   "source": [
    "The recommender will be extremely useful as it suggests items that are very similar. I excluded the 'main_gem' column during the development phase to ensure some variability in the recommendations."
   ]
  },
  {
   "cell_type": "markdown",
   "id": "2a01dba8",
   "metadata": {},
   "source": [
    "# Inventory Management - Exponential Smoothing"
   ]
  },
  {
   "cell_type": "markdown",
   "id": "dc83a517",
   "metadata": {},
   "source": [
    "I encountered some issues with my dataset while trying to create an ARIMA model for inventory management. As a result, I decided to use an Exponential Smoothing model instead. For the model analysis, I selected the product with the most occurrences in the dataset. I have also included a preview of the variables that describe the item I will be using."
   ]
  },
  {
   "cell_type": "code",
   "execution_count": 219,
   "id": "910cac02",
   "metadata": {},
   "outputs": [
    {
     "data": {
      "text/plain": [
       "category_alias    jewelry.ring\n",
       "brand_id                     0\n",
       "price                   259.97\n",
       "product_gender               f\n",
       "main_color                 red\n",
       "main_metal                gold\n",
       "main_gem           unknown-gem\n",
       "Name: 2019-01-20 17:03:41+00:00, dtype: object"
      ]
     },
     "execution_count": 219,
     "metadata": {},
     "output_type": "execute_result"
    }
   ],
   "source": [
    "# A preview of the variables that describe the product we are going to use \n",
    "# for analysis\n",
    "q = 'product_id == 1956663840242401751'\n",
    "dropped_na_data.query(q)[['category_alias', 'brand_id', 'price', \n",
    "                          'product_gender', 'main_color', 'main_metal', \n",
    "                          'main_gem']].iloc[0]"
   ]
  },
  {
   "cell_type": "code",
   "execution_count": 220,
   "id": "a9c8ed6e",
   "metadata": {},
   "outputs": [],
   "source": [
    "# Aggregate sales data by month\n",
    "monthly_sales = dropped_na_data.groupby([pd.Grouper(freq = 'M'), \n",
    "                                         'product_id'])['qty'].sum().reset_index()\n",
    "\n",
    "# Select a specific product_id for analysis\n",
    "product_id = 1956663840242401751\n",
    "product_sales = monthly_sales[monthly_sales['product_id'] == product_id]\n",
    "\n",
    "# Set 'order_datetime' as index\n",
    "product_sales.set_index('order_datetime', inplace = True)"
   ]
  },
  {
   "cell_type": "code",
   "execution_count": 221,
   "id": "86728c73",
   "metadata": {},
   "outputs": [],
   "source": [
    "with warnings.catch_warnings():\n",
    "    warnings.simplefilter('ignore')\n",
    "    \n",
    "    # Apply Exponential Smoothing (Holt-Winters' multiplicative seasonal method)\n",
    "    model = ExponentialSmoothing(product_sales['qty'], trend = 'add', \n",
    "                                 seasonal = 'mul', seasonal_periods = 12)\n",
    "    fit = model.fit()\n",
    "\n",
    "    # Forecasting\n",
    "    forecast_periods = 12\n",
    "    forecast = fit.forecast(steps = forecast_periods)\n",
    "\n",
    "    # Generate future dates for plotting\n",
    "    variable = pd.DateOffset(months = 1)\n",
    "    future_dates = pd.date_range(start = product_sales.index[-1] + variable, \n",
    "                                 periods = forecast_periods,\n",
    "                                freq = 'M')"
   ]
  },
  {
   "cell_type": "code",
   "execution_count": 222,
   "id": "8082000b",
   "metadata": {},
   "outputs": [
    {
     "data": {
      "image/png": "[encoded data removed]",
      "text/plain": [
       "<Figure size 1200x600 with 1 Axes>"
      ]
     },
     "metadata": {},
     "output_type": "display_data"
    }
   ],
   "source": [
    "# Plotting\n",
    "plt.figure(figsize = (12, 6))\n",
    "\n",
    "plt.plot(product_sales.index, product_sales['qty'], label='Observed', color='blue')\n",
    "plt.plot(product_sales.index, fit.fittedvalues, label='Fitted', color='orange')\n",
    "plt.plot(future_dates, forecast, label='Forecast', color='red')\n",
    "\n",
    "# Title and axis labes\n",
    "plt.title('Exponential Smoothing Forecast')\n",
    "plt.xlabel('Date')\n",
    "plt.ylabel('Quantity')\n",
    "\n",
    "# Add legend and show plot\n",
    "plt.legend()\n",
    "plt.show()"
   ]
  },
  {
   "cell_type": "code",
   "execution_count": 223,
   "id": "7164c32b",
   "metadata": {},
   "outputs": [
    {
     "name": "stdout",
     "output_type": "stream",
     "text": [
      "Mean Absolute Error: 2.85\n",
      "Mean Squared Error: 21.43\n"
     ]
    }
   ],
   "source": [
    "# Use the fitted model to make in-sample predictions\n",
    "in_sample_predictions = fit.fittedvalues\n",
    "\n",
    "# Calculate MAE and MSE\n",
    "mae = mean_absolute_error(product_sales['qty'], in_sample_predictions)\n",
    "mse = mean_squared_error(product_sales['qty'], in_sample_predictions)\n",
    "\n",
    "print(f\"Mean Absolute Error: {mae:.2f}\")\n",
    "print(f\"Mean Squared Error: {mse:.2f}\")"
   ]
  },
  {
   "cell_type": "markdown",
   "id": "81588c50",
   "metadata": {},
   "source": [
    "On average, each forecast deviates by 2.85 units. Given the size of the dataset (78,391 records), this level of error is very reasonable. This an improvement from the previous value of 5.13. "
   ]
  },
  {
   "cell_type": "markdown",
   "id": "c0d525d1",
   "metadata": {},
   "source": [
    "**Resources**\n",
    "\n",
    "Kechinov, M. (2021, December 1). ECommerce purchase history from Jewelry Store. Kaggle. https://www.kaggle.com/datasets/mkechinov/ecommerce-purchase-history-from-jewelry-store\n",
    "\n",
    "Drive more revenue with niche-specific personalization engine. REES46. (n.d.). https://rees46.com/\n",
    "\n",
    "GeeksforGeeks. (2024b, May 23). Movie Recommender based on plot summary using TF-IDF vectorization and cosine similarity. https://www.geeksforgeeks.org/movie-recommender-based-on-plot-summary-using-tf-idf-vectorization-and-cosine-similarity/ \n"
   ]
  }
 ],
 "metadata": {
  "kernelspec": {
   "display_name": "Python 3 (ipykernel)",
   "language": "python",
   "name": "python3"
  },
  "language_info": {
   "codemirror_mode": {
    "name": "ipython",
    "version": 3
   },
   "file_extension": ".py",
   "mimetype": "text/x-python",
   "name": "python",
   "nbconvert_exporter": "python",
   "pygments_lexer": "ipython3",
   "version": "3.11.5"
  }
 },
 "nbformat": 4,
 "nbformat_minor": 5
}
